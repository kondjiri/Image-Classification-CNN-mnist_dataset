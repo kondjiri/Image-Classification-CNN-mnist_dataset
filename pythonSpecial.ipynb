{
 "cells": [
  {
   "cell_type": "markdown",
   "metadata": {},
   "source": [
    "## Modules importation"
   ]
  },
  {
   "cell_type": "code",
   "execution_count": 120,
   "metadata": {},
   "outputs": [],
   "source": [
    "import cv2\n",
    "import numpy as np\n",
    "import os\n",
    "import matplotlib.pyplot as plt\n",
    "from keras.datasets import mnist,fashion_mnist,cifar10\n",
    "from keras.models import Sequential\n",
    "from keras.layers import Dense,Dropout,Conv2D,MaxPooling2D,Flatten\n",
    "from keras.utils.np_utils import to_categorical"
   ]
  },
  {
   "cell_type": "markdown",
   "metadata": {},
   "source": [
    "<h3>Data MNIST from Keras Librairy : A dataset containning digital number (0 to 9), therefore 10 classes</h3>"
   ]
  },
  {
   "cell_type": "code",
   "execution_count": 149,
   "metadata": {},
   "outputs": [],
   "source": [
    "(x_train,y_train),(x_test,y_test) = mnist.load_data()"
   ]
  },
  {
   "cell_type": "markdown",
   "metadata": {},
   "source": [
    "<h3>Plotting some images form dataset MNIST</h3>"
   ]
  },
  {
   "cell_type": "code",
   "execution_count": 169,
   "metadata": {},
   "outputs": [
    {
     "data": {
      "image/png": "[encoded data removed]",
      "text/plain": [
       "<Figure size 432x288 with 4 Axes>"
      ]
     },
     "metadata": {
      "needs_background": "light"
     },
     "output_type": "display_data"
    }
   ],
   "source": [
    "plt.subplot(221)\n",
    "plt.imshow(x_train[0].reshape(28,28))\n",
    "plt.subplot(222)\n",
    "plt.imshow(x_train[1].reshape(28,28))\n",
    "plt.subplot(223)\n",
    "plt.imshow(x_train[2].reshape(28,28))\n",
    "plt.subplot(224)\n",
    "plt.imshow(x_train[3].reshape(28,28))\n",
    "# plt.title(\"Some Images from MNIST DATASET\")\n",
    "plt.show()"
   ]
  },
  {
   "cell_type": "code",
   "execution_count": null,
   "metadata": {},
   "outputs": [],
   "source": []
  },
  {
   "cell_type": "markdown",
   "metadata": {},
   "source": [
    "<h3>Resizing the data to have four vectors: (example number,width,height,channel number)</h3>"
   ]
  },
  {
   "cell_type": "code",
   "execution_count": 150,
   "metadata": {},
   "outputs": [],
   "source": [
    "x_train = x_train.reshape(-1,28,28,1)"
   ]
  },
  {
   "cell_type": "code",
   "execution_count": 151,
   "metadata": {},
   "outputs": [],
   "source": [
    "x_test = x_test.reshape(-1,28,28,1)"
   ]
  },
  {
   "cell_type": "code",
   "execution_count": 152,
   "metadata": {},
   "outputs": [],
   "source": [
    "y_train,y_test = y_train.reshape(-1,1),y_test.reshape(-1,1)"
   ]
  },
  {
   "cell_type": "markdown",
   "metadata": {},
   "source": [
    "### Model definition and Training  it Just on 5 iterations"
   ]
  },
  {
   "cell_type": "code",
   "execution_count": 154,
   "metadata": {},
   "outputs": [
    {
     "name": "stdout",
     "output_type": "stream",
     "text": [
      "Train on 48000 samples, validate on 12000 samples\n",
      "Epoch 1/5\n",
      "48000/48000 [==============================] - 102s 2ms/step - loss: 9.9497 - accuracy: 0.0985 - val_loss: 9.9737 - val_accuracy: 0.0995\n",
      "Epoch 2/5\n",
      "48000/48000 [==============================] - 99s 2ms/step - loss: 9.9627 - accuracy: 0.0985 - val_loss: 9.9737 - val_accuracy: 0.0995\n",
      "Epoch 3/5\n",
      "48000/48000 [==============================] - 99s 2ms/step - loss: 9.9627 - accuracy: 0.0985 - val_loss: 9.9737 - val_accuracy: 0.0995\n",
      "Epoch 4/5\n",
      "48000/48000 [==============================] - 103s 2ms/step - loss: 9.9627 - accuracy: 0.0985 - val_loss: 9.9737 - val_accuracy: 0.0995\n",
      "Epoch 5/5\n",
      "48000/48000 [==============================] - 104s 2ms/step - loss: 9.9627 - accuracy: 0.0985 - val_loss: 9.9737 - val_accuracy: 0.0995\n"
     ]
    },
    {
     "data": {
      "text/plain": [
       "<keras.callbacks.callbacks.History at 0x20271dff88>"
      ]
     },
     "execution_count": 154,
     "metadata": {},
     "output_type": "execute_result"
    }
   ],
   "source": [
    "model = Sequential()\n",
    "model.add(Conv2D(32,(3,3),kernel_initializer='he_normal',bias_initializer='he_normal',input_shape=(28,28,1),activation='relu',padding='same',strides=(1,1)))\n",
    "model.add(MaxPooling2D((2,2)))\n",
    "model.add(Conv2D(64,(3,3),kernel_initializer=\"he_normal\",bias_initializer=\"he_normal\",activation=\"relu\"))\n",
    "model.add(MaxPooling2D((2,2)))\n",
    "model.add(Conv2D(128,(3,3),kernel_initializer=\"he_normal\",activation=\"relu\"))\n",
    "model.add(MaxPooling2D((2,2)))\n",
    "model.add(Flatten())\n",
    "model.add(Dense(1024,activation='relu'))\n",
    "model.add(Dense(10,activation='sigmoid'))\n",
    "model.compile(loss=\"categorical_crossentropy\",optimizer='adam',metrics=['accuracy'])\n",
    "y_train = to_categorical(y_train)\n",
    "model.fit(x_train,y_train,epochs=5,batch_size=128,validation_split=0.2,verbose=1)"
   ]
  },
  {
   "cell_type": "markdown",
   "metadata": {},
   "source": [
    "<h3>Evaluating the model after 5 iterations on testing set</h3>"
   ]
  },
  {
   "cell_type": "code",
   "execution_count": 155,
   "metadata": {},
   "outputs": [
    {
     "name": "stdout",
     "output_type": "stream",
     "text": [
      "10000/10000 [==============================] - 7s 740us/step\n",
      "Loss: 10.00\n",
      "Accuracy: 9.80\n"
     ]
    }
   ],
   "source": [
    "y_test = to_categorical(y_test)\n",
    "loss,acc = model.evaluate(x_test,y_test,verbose=1)\n",
    "print(\"Loss: {:.2f}\\nAccuracy: {:.2f}\".format(loss,acc*100))"
   ]
  },
  {
   "cell_type": "markdown",
   "metadata": {},
   "source": [
    "<h3>End</h3>"
   ]
  }
 ],
 "metadata": {
  "kernelspec": {
   "display_name": "Python 3",
   "language": "python",
   "name": "python3"
  },
  "language_info": {
   "codemirror_mode": {
    "name": "ipython",
    "version": 3
   },
   "file_extension": ".py",
   "mimetype": "text/x-python",
   "name": "python",
   "nbconvert_exporter": "python",
   "pygments_lexer": "ipython3",
   "version": "3.7.7"
  }
 },
 "nbformat": 4,
 "nbformat_minor": 2
}
